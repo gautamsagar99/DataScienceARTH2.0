{
 "cells": [
  {
   "cell_type": "code",
   "execution_count": 15,
   "id": "3ddb0cf6",
   "metadata": {},
   "outputs": [],
   "source": [
    "import cv2,numpy"
   ]
  },
  {
   "cell_type": "markdown",
   "id": "f97a52b4",
   "metadata": {},
   "source": [
    "# importing image(image 1)"
   ]
  },
  {
   "cell_type": "code",
   "execution_count": 17,
   "id": "798c4eb4",
   "metadata": {},
   "outputs": [],
   "source": [
    "\n",
    "imgComplete = cv2.imread(\"modiImage.jpg\")\n",
    "\n",
    "#shows imported image\n",
    "cv2.imshow(\"image\",imgComplete)\n",
    "cv2.waitKey()\n",
    "cv2.destroyAllWindows()\n"
   ]
  },
  {
   "cell_type": "markdown",
   "id": "3cbf9e5d",
   "metadata": {},
   "source": [
    "# importing another image(image 2)"
   ]
  },
  {
   "cell_type": "code",
   "execution_count": 18,
   "id": "5e2e8f3f",
   "metadata": {},
   "outputs": [],
   "source": [
    "\n",
    "imgComplet = cv2.imread(\"MacronPresident.jpg\")\n",
    "\n",
    "#shows imported image\n",
    "cv2.imshow(\"image1\",imgComplet)\n",
    "cv2.waitKey()\n",
    "cv2.destroyAllWindows()"
   ]
  },
  {
   "cell_type": "markdown",
   "id": "c33a9317",
   "metadata": {},
   "source": [
    "# combining entire image"
   ]
  },
  {
   "cell_type": "code",
   "execution_count": 19,
   "id": "6fef6259",
   "metadata": {},
   "outputs": [],
   "source": [
    "\n",
    "# combining entire image\n",
    "combined_image = numpy.hstack((imgComplete,imgComplet))\n",
    "\n",
    "#shows combined image\n",
    "cv2.imshow(\"combined_image\",combined_image)\n",
    "cv2.waitKey()\n",
    "cv2.destroyAllWindows()"
   ]
  },
  {
   "cell_type": "code",
   "execution_count": null,
   "id": "da61a435",
   "metadata": {},
   "outputs": [],
   "source": []
  }
 ],
 "metadata": {
  "kernelspec": {
   "display_name": "Python 3",
   "language": "python",
   "name": "python3"
  },
  "language_info": {
   "codemirror_mode": {
    "name": "ipython",
    "version": 3
   },
   "file_extension": ".py",
   "mimetype": "text/x-python",
   "name": "python",
   "nbconvert_exporter": "python",
   "pygments_lexer": "ipython3",
   "version": "3.8.8"
  }
 },
 "nbformat": 4,
 "nbformat_minor": 5
}
