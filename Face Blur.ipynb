{
 "cells": [
  {
   "cell_type": "markdown",
   "id": "2ec68b7b",
   "metadata": {},
   "source": [
    "# Identifes My Face And Blur Only My Face"
   ]
  },
  {
   "cell_type": "code",
   "execution_count": 6,
   "id": "4ea7e499",
   "metadata": {},
   "outputs": [],
   "source": [
    "import cv2"
   ]
  },
  {
   "cell_type": "code",
   "execution_count": 7,
   "id": "9caa5e1c",
   "metadata": {},
   "outputs": [],
   "source": [
    "cap = cv2.VideoCapture(0)\n",
    "model = cv2.CascadeClassifier('haarcascade_frontalface_default.xml')\n",
    "while True:\n",
    "    ret, photo = cap.read()\n",
    "    fdetect  = model.detectMultiScale(photo)\n",
    "    if len(fdetect) == 0:\n",
    "        print(\"no faces\")\n",
    "    else:\n",
    "        x1 = fdetect[0][0]\n",
    "        y1 = fdetect[0][1]\n",
    "        x2 = fdetect[0][2] + x1\n",
    "        y2 = fdetect[0][3] + y1 \n",
    "#         cv2.putText(photo, \"Hey Gautam\", (250, 450), cv2.FONT_HERSHEY_COMPLEX, 1, (0,255,0), 2)\n",
    "        cv2.rectangle(photo , (x1,y1), (x2,y2), [0, 255,0] , 2)\n",
    "        cphoto = photo[y1:y2 , x1:x2]\n",
    "        bphoto = cv2.blur(cphoto, (20,20))\n",
    "        photo[y1:y2 , x1:x2] = bphoto\n",
    "        cv2.imshow('hi', photo)\n",
    "        if cv2.waitKey(100) == 13:\n",
    "            break\n",
    "        \n",
    "        \n",
    "cv2.destroyAllWindows()\n",
    "cap.release()"
   ]
  },
  {
   "cell_type": "code",
   "execution_count": null,
   "id": "bdf13d0a",
   "metadata": {},
   "outputs": [],
   "source": [
    "cap.release()"
   ]
  },
  {
   "cell_type": "code",
   "execution_count": null,
   "id": "682a0678",
   "metadata": {},
   "outputs": [],
   "source": []
  }
 ],
 "metadata": {
  "kernelspec": {
   "display_name": "Python 3",
   "language": "python",
   "name": "python3"
  },
  "language_info": {
   "codemirror_mode": {
    "name": "ipython",
    "version": 3
   },
   "file_extension": ".py",
   "mimetype": "text/x-python",
   "name": "python",
   "nbconvert_exporter": "python",
   "pygments_lexer": "ipython3",
   "version": "3.8.8"
  }
 },
 "nbformat": 4,
 "nbformat_minor": 5
}
