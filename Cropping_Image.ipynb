{
 "cells": [
  {
   "cell_type": "code",
   "execution_count": 32,
   "id": "a5c8ed8a",
   "metadata": {},
   "outputs": [],
   "source": [
    "import cv2,numpy\n"
   ]
  },
  {
   "cell_type": "markdown",
   "id": "e4de0b92",
   "metadata": {},
   "source": [
    "# reading image from current directory"
   ]
  },
  {
   "cell_type": "code",
   "execution_count": 33,
   "id": "1f5b1ab3",
   "metadata": {},
   "outputs": [],
   "source": [
    "\n",
    "\n",
    "imgComplete = cv2.imread(\"images.jpg\")\n",
    "\n",
    "\n",
    "#seeing cropped image \n",
    "cv2.imshow(\"image\",imgComplete)\n",
    "cv2.waitKey()\n",
    "cv2.destroyAllWindows()"
   ]
  },
  {
   "cell_type": "markdown",
   "id": "40b9bb58",
   "metadata": {},
   "source": [
    "# cropping first part from original image"
   ]
  },
  {
   "cell_type": "code",
   "execution_count": 34,
   "id": "92633345",
   "metadata": {},
   "outputs": [],
   "source": [
    "\n",
    "img = imgComplete[:168,:140]\n",
    "\n",
    "#saving image in current directory\n",
    "cv2.imwrite(\"modiImage.jpg\",img)\n",
    "\n",
    "\n",
    "\n",
    "#seeing cropped image \n",
    "cv2.imshow(\"image\",img)\n",
    "cv2.waitKey()\n",
    "cv2.destroyAllWindows()"
   ]
  },
  {
   "cell_type": "markdown",
   "id": "6d8fe071",
   "metadata": {},
   "source": [
    "# cropping second half from original image"
   ]
  },
  {
   "cell_type": "code",
   "execution_count": 35,
   "id": "c9ec18be",
   "metadata": {},
   "outputs": [],
   "source": [
    "\n",
    "img1 = imgComplete[:168,140:]\n",
    "\n",
    "\n",
    "#saving image in current directory\n",
    "cv2.imwrite(\"MacronPresident.jpg\",img1)\n",
    "\n",
    "#seeing cropped image \n",
    "cv2.imshow(\"image1\",img1)\n",
    "cv2.waitKey()\n",
    "cv2.destroyAllWindows()"
   ]
  },
  {
   "cell_type": "markdown",
   "id": "700b993b",
   "metadata": {},
   "source": [
    "# combining entire image by swaping them"
   ]
  },
  {
   "cell_type": "code",
   "execution_count": 36,
   "id": "47dd4a7d",
   "metadata": {},
   "outputs": [],
   "source": [
    "\n",
    "combined_image = numpy.hstack((img1,img))\n",
    "\n",
    "cv2.imshow(\"combined_image\",combined_image)\n",
    "\n",
    "cv2.waitKey()\n",
    "cv2.destroyAllWindows()\n",
    "\n",
    "\n",
    "\n"
   ]
  },
  {
   "cell_type": "code",
   "execution_count": 26,
   "id": "8e5a87d5",
   "metadata": {},
   "outputs": [],
   "source": []
  },
  {
   "cell_type": "code",
   "execution_count": null,
   "id": "59c4bb30",
   "metadata": {},
   "outputs": [],
   "source": []
  },
  {
   "cell_type": "code",
   "execution_count": null,
   "id": "d2bf2f02",
   "metadata": {},
   "outputs": [],
   "source": []
  },
  {
   "cell_type": "code",
   "execution_count": null,
   "id": "dd5839e9",
   "metadata": {},
   "outputs": [],
   "source": []
  }
 ],
 "metadata": {
  "kernelspec": {
   "display_name": "Python 3",
   "language": "python",
   "name": "python3"
  },
  "language_info": {
   "codemirror_mode": {
    "name": "ipython",
    "version": 3
   },
   "file_extension": ".py",
   "mimetype": "text/x-python",
   "name": "python",
   "nbconvert_exporter": "python",
   "pygments_lexer": "ipython3",
   "version": "3.8.8"
  }
 },
 "nbformat": 4,
 "nbformat_minor": 5
}
