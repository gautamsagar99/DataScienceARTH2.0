{
 "cells": [
  {
   "cell_type": "code",
   "execution_count": 66,
   "id": "42544745",
   "metadata": {},
   "outputs": [],
   "source": [
    "#import neccesary modules\n",
    "import pandas\n",
    "from sklearn.linear_model import LinearRegression\n",
    "\n"
   ]
  },
  {
   "cell_type": "code",
   "execution_count": 67,
   "id": "eae43812",
   "metadata": {},
   "outputs": [],
   "source": [
    "#load data set\n",
    "dataset = pandas.read_csv('sampleData.csv')"
   ]
  },
  {
   "cell_type": "code",
   "execution_count": 68,
   "id": "462511ea",
   "metadata": {},
   "outputs": [],
   "source": [
    "#result variable / dependent variable\n",
    "y = dataset['marks']\n",
    "#predictor variable / independent variable\n",
    "x = dataset['hrs']"
   ]
  },
  {
   "cell_type": "code",
   "execution_count": 69,
   "id": "519c960f",
   "metadata": {},
   "outputs": [],
   "source": [
    "#for LinearRegression() we need to convert the x dataset into numpy array\n",
    "x = x.values.reshape(-1,1)"
   ]
  },
  {
   "cell_type": "code",
   "execution_count": 60,
   "id": "3fbff27f",
   "metadata": {},
   "outputs": [],
   "source": [
    "# we need to choode a model\n",
    "model = LinearRegression()"
   ]
  },
  {
   "cell_type": "code",
   "execution_count": 70,
   "id": "b1e42abf",
   "metadata": {},
   "outputs": [
    {
     "data": {
      "text/plain": [
       "LinearRegression()"
      ]
     },
     "execution_count": 70,
     "metadata": {},
     "output_type": "execute_result"
    }
   ],
   "source": [
    "# tarin the model with the data\n",
    "model.fit(x, y)"
   ]
  },
  {
   "cell_type": "code",
   "execution_count": 71,
   "id": "66d84774",
   "metadata": {},
   "outputs": [
    {
     "name": "stdout",
     "output_type": "stream",
     "text": [
      "[90.]\n"
     ]
    }
   ],
   "source": [
    "# predict the value / test the model\n",
    "print(model.predict([[9]]))"
   ]
  },
  {
   "cell_type": "code",
   "execution_count": null,
   "id": "38ee15d2",
   "metadata": {},
   "outputs": [],
   "source": []
  }
 ],
 "metadata": {
  "kernelspec": {
   "display_name": "Python 3",
   "language": "python",
   "name": "python3"
  },
  "language_info": {
   "codemirror_mode": {
    "name": "ipython",
    "version": 3
   },
   "file_extension": ".py",
   "mimetype": "text/x-python",
   "name": "python",
   "nbconvert_exporter": "python",
   "pygments_lexer": "ipython3",
   "version": "3.8.8"
  }
 },
 "nbformat": 4,
 "nbformat_minor": 5
}
